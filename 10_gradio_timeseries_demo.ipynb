{
 "cells": [
  {
   "cell_type": "markdown",
   "id": "ccb05b20",
   "metadata": {},
   "source": [
    "# Gradio Demo — Time Series Forecast (Daily Min Temps)"
   ]
  },
  {
   "cell_type": "markdown",
   "id": "6cd4da58",
   "metadata": {},
   "source": [
    "Simple UI to forecast `n` days ahead with the saved univariate model."
   ]
  },
  {
   "cell_type": "code",
   "execution_count": null,
   "id": "d7f9d961",
   "metadata": {},
   "outputs": [],
   "source": [
    "!pip -q install --upgrade pycaret[time_series]>=3.2 gradio --no-cache-dir"
   ]
  },
  {
   "cell_type": "code",
   "execution_count": null,
   "id": "a0d42fbb",
   "metadata": {},
   "outputs": [],
   "source": [
    "import gradio as gr\n",
    "import pandas as pd\n",
    "from pycaret.time_series import load_model, predict_model\n",
    "\n",
    "model = load_model('ts_univariate_model')\n",
    "\n",
    "def forecast(n):\n",
    "    try:\n",
    "        n = int(n)\n",
    "    except:\n",
    "        n = 14\n",
    "    future = predict_model(model, fh=n)\n",
    "    return future.to_markdown(index=False)\n",
    "\n",
    "demo = gr.Interface(\n",
    "    fn=forecast,\n",
    "    inputs=gr.Number(label=\"Forecast horizon (days)\", value=14, precision=0),\n",
    "    outputs=\"markdown\",\n",
    "    title=\"Univariate Forecast — PyCaret\"\n",
    ")\n",
    "demo.launch(share=False, debug=False)"
   ]
  }
 ],
 "metadata": {},
 "nbformat": 4,
 "nbformat_minor": 5
}
