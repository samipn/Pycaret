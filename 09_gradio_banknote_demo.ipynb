{
 "cells": [
  {
   "cell_type": "markdown",
   "id": "d8884cea",
   "metadata": {},
   "source": [
    "# Gradio Demo — Binary Classification (Banknote)"
   ]
  },
  {
   "cell_type": "markdown",
   "id": "5cd49011",
   "metadata": {},
   "source": [
    "Small UI to test the saved Banknote model interactively."
   ]
  },
  {
   "cell_type": "code",
   "execution_count": null,
   "id": "9980d347",
   "metadata": {},
   "outputs": [],
   "source": [
    "!pip -q install --upgrade pycaret>=3.2 gradio --no-cache-dir"
   ]
  },
  {
   "cell_type": "code",
   "execution_count": null,
   "id": "22bc76a0",
   "metadata": {},
   "outputs": [],
   "source": [
    "import gradio as gr\n",
    "import pandas as pd\n",
    "from pycaret.classification import load_model, predict_model\n",
    "\n",
    "model = load_model('best_model')  # ensure you've run the classification notebook first\n",
    "\n",
    "def predict(variance, skewness, curtosis, entropy):\n",
    "    df = pd.DataFrame([[variance, skewness, curtosis, entropy]], columns=['variance','skewness','curtosis','entropy'])\n",
    "    out = predict_model(model, data=df)\n",
    "    proba = float(out['Score'].iloc[0])\n",
    "    label = int(out['Label'].iloc[0])\n",
    "    return { \"Predicted Label\": label, \"Probability\": round(proba, 4) }\n",
    "\n",
    "demo = gr.Interface(\n",
    "    fn=predict,\n",
    "    inputs=[gr.Number(label='variance'), gr.Number(label='skewness'), gr.Number(label='curtosis'), gr.Number(label='entropy')],\n",
    "    outputs=\"json\",\n",
    "    title=\"Banknote Classifier — PyCaret\",\n",
    "    allow_flagging=\"never\"\n",
    ")\n",
    "demo.launch(share=False, debug=False)"
   ]
  }
 ],
 "metadata": {},
 "nbformat": 4,
 "nbformat_minor": 5
}
